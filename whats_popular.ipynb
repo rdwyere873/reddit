{
 "cells": [
  {
   "cell_type": "code",
   "execution_count": 1,
   "metadata": {
    "collapsed": true
   },
   "outputs": [],
   "source": [
    "#Import packages\n",
    "import datetime\n",
    "import pandas as pd\n",
    "import numpy as np\n",
    "import time\n",
    "import matplotlib.pyplot as plt\n",
    "import seaborn as sns\n",
    "\n",
    "\n",
    "%matplotlib inline"
   ]
  },
  {
   "cell_type": "code",
   "execution_count": 83,
   "metadata": {
    "collapsed": true
   },
   "outputs": [],
   "source": [
    "#read in data\n",
    "reddits = pd.read_csv('C://Users/bobal/Desktop/reddit_posts.csv')"
   ]
  },
  {
   "cell_type": "code",
   "execution_count": 84,
   "metadata": {
    "collapsed": true
   },
   "outputs": [],
   "source": [
    "#Strip white space fro  column name and drop any column with no nunique values\n",
    "def clean_drop (data):\n",
    "    data.columns = data.columns.str.strip()\n",
    "    for col in data.columns:\n",
    "        if data[col].nunique() ==0:\n",
    "            data.drop(col, axis =1, inplace =True)\n",
    "            \n",
    "clean_drop (reddits)"
   ]
  },
  {
   "cell_type": "markdown",
   "metadata": {},
   "source": [
    "### Model to predict the score of Reddit posts\n"
   ]
  },
  {
   "cell_type": "code",
   "execution_count": 85,
   "metadata": {
    "collapsed": true
   },
   "outputs": [],
   "source": [
    "#Remove all deleted reddits an reset index of new dataframe\n",
    "reddits = reddits[reddits['ups'] != 0]\n",
    "reddits = reddits[reddits['selftext']!='[deleted]']\n",
    "reddits.reset_index(inplace=True)\n",
    "reddits.drop('index', axis =1, inplace =True)"
   ]
  },
  {
   "cell_type": "code",
   "execution_count": 86,
   "metadata": {
    "collapsed": true
   },
   "outputs": [],
   "source": [
    "#Create datetime object\n",
    "reddits['time_cst'] = reddits['created_utc'].apply(lambda x: time.strftime(\"%Y/%m/%d, %H:%M:%S\", time.localtime(x)))\n",
    "reddits.drop('created_utc', axis=1, inplace=True)"
   ]
  },
  {
   "cell_type": "code",
   "execution_count": 87,
   "metadata": {
    "collapsed": true
   },
   "outputs": [],
   "source": [
    "reddits.time_cst = pd.to_datetime(reddits['time_cst'])"
   ]
  },
  {
   "cell_type": "code",
   "execution_count": 88,
   "metadata": {
    "collapsed": true
   },
   "outputs": [],
   "source": [
    "#Set non false values of edited column to True\n",
    "for idx, val in enumerate(reddits['edited']):\n",
    "    if val != 'False':\n",
    "        reddits['edited'].iloc[idx]=True"
   ]
  },
  {
   "cell_type": "code",
   "execution_count": 89,
   "metadata": {
    "collapsed": true
   },
   "outputs": [],
   "source": [
    "#Transform edited column to boolean\n",
    "d = {True: True, 'False': False}\n",
    "reddits['edited']=reddits['edited'].map(d)"
   ]
  },
  {
   "cell_type": "code",
   "execution_count": 90,
   "metadata": {
    "collapsed": true
   },
   "outputs": [],
   "source": [
    "subs = pd.get_dummies(reddits['subreddit'], drop_first =True, prefix ='subs')\n",
    "reddits.drop('subreddit', axis=1, inplace =True)\n",
    "edited = pd.get_dummies(reddits['edited'], drop_first=True)\n",
    "reddits.drop('edited', axis =1, inplace =True)"
   ]
  },
  {
   "cell_type": "code",
   "execution_count": 92,
   "metadata": {
    "collapsed": true
   },
   "outputs": [],
   "source": [
    "#import packages for nlp\n",
    "from sklearn.feature_extraction.text import TfidfVectorizer"
   ]
  },
  {
   "cell_type": "code",
   "execution_count": 93,
   "metadata": {
    "collapsed": true
   },
   "outputs": [],
   "source": [
    "from stop_words import get_stop_words"
   ]
  },
  {
   "cell_type": "code",
   "execution_count": 94,
   "metadata": {
    "collapsed": true
   },
   "outputs": [],
   "source": [
    "#Cretae custom stop words\n",
    "custom_stop_words = ['00','00 00','00 00 00', '000','000 000','10']\n",
    "stop_words = get_stop_words('en') + custom_stop_words"
   ]
  },
  {
   "cell_type": "code",
   "execution_count": 96,
   "metadata": {},
   "outputs": [
    {
     "data": {
      "text/plain": [
       "<18870x1890 sparse matrix of type '<type 'numpy.float64'>'\n",
       "\twith 717077 stored elements in Compressed Sparse Row format>"
      ]
     },
     "execution_count": 96,
     "metadata": {},
     "output_type": "execute_result"
    }
   ],
   "source": [
    "#instantiate Countvectorizer and count word occurence throught selftext corpus\n",
    "tf = TfidfVectorizer(stop_words=stop_words, min_df=.005, ngram_range=(1,4))\n",
    "tf.fit_transform(reddits['selftext'])"
   ]
  },
  {
   "cell_type": "code",
   "execution_count": 97,
   "metadata": {},
   "outputs": [
    {
     "data": {
      "text/plain": [
       "1275"
      ]
     },
     "execution_count": 97,
     "metadata": {},
     "output_type": "execute_result"
    }
   ],
   "source": [
    "#Get feature names from Countvectorizer and stor them in names\n",
    "names = tf.get_feature_names()\n",
    "len(names)"
   ]
  },
  {
   "cell_type": "code",
   "execution_count": 98,
   "metadata": {
    "collapsed": true
   },
   "outputs": [],
   "source": [
    "#Transform sparse matrix:names,into dense dataframe: features\n",
    "features = pd.DataFrame(cv.transform(reddits['selftext']).todense(),columns=names)"
   ]
  },
  {
   "cell_type": "code",
   "execution_count": 99,
   "metadata": {},
   "outputs": [
    {
     "data": {
      "text/plain": [
       "<18870x1275 sparse matrix of type '<type 'numpy.int64'>'\n",
       "\twith 85455 stored elements in Compressed Sparse Row format>"
      ]
     },
     "execution_count": 99,
     "metadata": {},
     "output_type": "execute_result"
    }
   ],
   "source": [
    "#instantiate TfidfVectorizer and count word occurence throught selftext corpus\n",
    "tf = TfidfVectorizer(stop_words=stop_words, min_df=.005, ngram_range=(1,4))\n",
    "tf.fit_transform(reddits['title'])"
   ]
  },
  {
   "cell_type": "code",
   "execution_count": 100,
   "metadata": {},
   "outputs": [
    {
     "data": {
      "text/plain": [
       "1275"
      ]
     },
     "execution_count": 100,
     "metadata": {},
     "output_type": "execute_result"
    }
   ],
   "source": [
    "#Get feature names from Countvectorizer and store them in titles\n",
    "titles = cv.get_feature_names()\n",
    "len(titles)"
   ]
  },
  {
   "cell_type": "code",
   "execution_count": 101,
   "metadata": {
    "collapsed": true
   },
   "outputs": [],
   "source": [
    "#Transform sparse matrix: titles,into dense dataframe: title_features\n",
    "title_features = pd.DataFrame(cv.transform(reddits['title']).todense(),columns=titles)"
   ]
  },
  {
   "cell_type": "code",
   "execution_count": 102,
   "metadata": {
    "collapsed": true
   },
   "outputs": [],
   "source": [
    "df=title_features.join(features, rsuffix='f')"
   ]
  },
  {
   "cell_type": "code",
   "execution_count": 103,
   "metadata": {},
   "outputs": [
    {
     "data": {
      "text/plain": [
       "array([[  5.20126180e-01,  -1.98262471e-01,   9.49366558e-02, ...,\n",
       "         -3.24523936e-02,  -2.02409720e-02,  -1.71067695e-01],\n",
       "       [  9.43295447e+00,  -6.92166734e+00,  -5.19194324e+00, ...,\n",
       "         -1.17379002e+00,   3.26674163e-01,  -1.19311208e+00],\n",
       "       [  1.89208120e+00,  -5.81300677e-01,   8.30510754e-01, ...,\n",
       "          1.62168845e-01,   4.13716713e-01,  -3.57164492e-02],\n",
       "       ..., \n",
       "       [  1.22169259e+00,  -4.28292373e-01,   4.57457769e-01, ...,\n",
       "          1.62804513e-01,   2.62462597e-01,  -2.10644535e-01],\n",
       "       [  1.32341454e+00,  -4.42144836e-01,   4.48940307e-01, ...,\n",
       "         -5.05476467e-01,   5.36744826e-02,   6.17508165e-03],\n",
       "       [  4.51377519e-01,  -1.28712644e-01,   1.73250344e-01, ...,\n",
       "          1.82536944e-01,   1.65200122e-01,  -2.12929982e-02]])"
      ]
     },
     "execution_count": 103,
     "metadata": {},
     "output_type": "execute_result"
    }
   ],
   "source": [
    "#import packages for pca\n",
    "from sklearn.decomposition import TruncatedSVD\n",
    "svd = TruncatedSVD(n_components=100)\n",
    "svd.fit_transform(df)"
   ]
  },
  {
   "cell_type": "code",
   "execution_count": 104,
   "metadata": {},
   "outputs": [
    {
     "name": "stdout",
     "output_type": "stream",
     "text": [
      "Explained variance of the SVD step: 62%\n"
     ]
    },
    {
     "data": {
      "image/png": "[encoded data removed]",
      "text/plain": [
       "<matplotlib.figure.Figure at 0xdcfeac8>"
      ]
     },
     "metadata": {},
     "output_type": "display_data"
    }
   ],
   "source": [
    "explained_variance = svd.explained_variance_ratio_.sum()\n",
    "print(\"Explained variance of the SVD step: {}%\".format(\n",
    "int(explained_variance * 100)))\n",
    "\n",
    "plt.plot(np.cumsum(svd.explained_variance_ratio_*100))\n",
    "plt.show()"
   ]
  },
  {
   "cell_type": "code",
   "execution_count": null,
   "metadata": {
    "collapsed": true
   },
   "outputs": [],
   "source": []
  },
  {
   "cell_type": "code",
   "execution_count": 105,
   "metadata": {
    "collapsed": true
   },
   "outputs": [],
   "source": [
    "X=df.iloc[:,0:100]"
   ]
  },
  {
   "cell_type": "code",
   "execution_count": 106,
   "metadata": {
    "collapsed": true
   },
   "outputs": [],
   "source": [
    "X=X.join(reddits['num_comments'])"
   ]
  },
  {
   "cell_type": "code",
   "execution_count": 107,
   "metadata": {
    "collapsed": true
   },
   "outputs": [],
   "source": [
    "X=X.join(edited)"
   ]
  },
  {
   "cell_type": "code",
   "execution_count": 108,
   "metadata": {
    "collapsed": true
   },
   "outputs": [],
   "source": [
    "X= X.join(subs, rsuffix='sub')\n",
    "y=reddits['ups']"
   ]
  },
  {
   "cell_type": "code",
   "execution_count": 109,
   "metadata": {},
   "outputs": [
    {
     "data": {
      "text/plain": [
       "((18870, 137), (18870L,))"
      ]
     },
     "execution_count": 109,
     "metadata": {},
     "output_type": "execute_result"
    }
   ],
   "source": [
    "X.shape, y.shape"
   ]
  },
  {
   "cell_type": "code",
   "execution_count": 110,
   "metadata": {
    "collapsed": true
   },
   "outputs": [],
   "source": [
    "X.dropna(axis =1, inplace =True)"
   ]
  },
  {
   "cell_type": "code",
   "execution_count": 111,
   "metadata": {
    "collapsed": true
   },
   "outputs": [],
   "source": [
    "from sklearn.preprocessing import StandardScaler\n",
    "ss = StandardScaler()\n",
    "X_std = ss.fit_transform(X)"
   ]
  },
  {
   "cell_type": "code",
   "execution_count": 112,
   "metadata": {
    "collapsed": true
   },
   "outputs": [],
   "source": [
    "from sklearn.linear_model import LinearRegression\n",
    "from sklearn.tree import DecisionTreeRegressor\n",
    "from sklearn.ensemble import RandomForestRegressor\n",
    "from sklearn.model_selection import train_test_split\n",
    "from sklearn.model_selection import GridSearchCV "
   ]
  },
  {
   "cell_type": "code",
   "execution_count": 113,
   "metadata": {
    "collapsed": true
   },
   "outputs": [],
   "source": [
    "X_std_train, X_std_test, y_train, y_test = train_test_split(X_std,y, test_size =.3)"
   ]
  },
  {
   "cell_type": "code",
   "execution_count": 114,
   "metadata": {},
   "outputs": [
    {
     "data": {
      "text/plain": [
       "((13209L, 137L), (5661L, 137L), (13209L,), (5661L,))"
      ]
     },
     "execution_count": 114,
     "metadata": {},
     "output_type": "execute_result"
    }
   ],
   "source": [
    "X_std_train.shape, X_std_test.shape, y_train.shape, y_test.shape"
   ]
  },
  {
   "cell_type": "code",
   "execution_count": 62,
   "metadata": {
    "collapsed": true
   },
   "outputs": [],
   "source": [
    "list_of_regressors = [\n",
    "    ('lr', LinearRegression()),\n",
    "    ('dt', DecisionTreeRegressor()),\n",
    "    ('rfr', RandomForestRegressor())\n",
    "]\n"
   ]
  },
  {
   "cell_type": "code",
   "execution_count": 63,
   "metadata": {
    "collapsed": true
   },
   "outputs": [],
   "source": [
    "rgr = [\n",
    "    ('lr', LinearRegression()),\n",
    "    ('dt', DecisionTreeRegressor()),\n",
    "    ('rfr', RandomForestRegressor())\n",
    "\n",
    "]"
   ]
  },
  {
   "cell_type": "code",
   "execution_count": 65,
   "metadata": {},
   "outputs": [
    {
     "name": "stdout",
     "output_type": "stream",
     "text": [
      "('lr', LinearRegression(copy_X=True, fit_intercept=True, n_jobs=1, normalize=False))\n",
      "('dt', DecisionTreeRegressor(criterion='mse', max_depth=None, max_features=None,\n",
      "           max_leaf_nodes=None, min_impurity_split=1e-07,\n",
      "           min_samples_leaf=1, min_samples_split=2,\n",
      "           min_weight_fraction_leaf=0.0, presort=False, random_state=None,\n",
      "           splitter='best'))\n",
      "('rfr', RandomForestRegressor(bootstrap=True, criterion='mse', max_depth=None,\n",
      "           max_features='auto', max_leaf_nodes=None,\n",
      "           min_impurity_split=1e-07, min_samples_leaf=1,\n",
      "           min_samples_split=2, min_weight_fraction_leaf=0.0,\n",
      "           n_estimators=10, n_jobs=1, oob_score=False, random_state=None,\n",
      "           verbose=0, warm_start=False))\n"
     ]
    }
   ],
   "source": [
    "for regressor in rgr:\n",
    "    print(regressor[0], regressor[1])"
   ]
  },
  {
   "cell_type": "code",
   "execution_count": 66,
   "metadata": {},
   "outputs": [
    {
     "name": "stdout",
     "output_type": "stream",
     "text": [
      "('lr', 0.21013860592620337)\n",
      "('dt', -0.19217980040398808)\n",
      "('rfr', 0.042333805284027859)\n"
     ]
    }
   ],
   "source": [
    "for name, model in rgr:\n",
    "    model.fit(X_std_train, y_train)\n",
    "    score = model.score(X_std_test, y_test)\n",
    "    print(name, score)\n",
    "    "
   ]
  },
  {
   "cell_type": "code",
   "execution_count": 71,
   "metadata": {},
   "outputs": [
    {
     "data": {
      "text/plain": [
       "array([ 1.27407631,  2.94269025,  1.22332187, ...,  1.        ,\n",
       "        3.64178571,  1.5281746 ])"
      ]
     },
     "execution_count": 71,
     "metadata": {},
     "output_type": "execute_result"
    }
   ],
   "source": [
    "yhat=model.predict(X_std_test)\n",
    "yhat"
   ]
  },
  {
   "cell_type": "code",
   "execution_count": 59,
   "metadata": {},
   "outputs": [
    {
     "name": "stdout",
     "output_type": "stream",
     "text": [
      "('lr', 0.79611438107148369)\n",
      "('dtr', 0.99896816367761521)\n",
      "('rfr', 0.92585383048669356)\n"
     ]
    }
   ],
   "source": [
    "for name, model in rgr:\n",
    "    model.fit(X_std_train, y_train)\n",
    "    score = model.score(X_std_train, y_train)\n",
    "    print(name, score)"
   ]
  },
  {
   "cell_type": "code",
   "execution_count": 74,
   "metadata": {},
   "outputs": [
    {
     "data": {
      "text/plain": [
       "0.99896816367761521"
      ]
     },
     "execution_count": 74,
     "metadata": {},
     "output_type": "execute_result"
    }
   ],
   "source": [
    "dt= DecisionTreeRegressor()\n",
    "dt.fit(X_std_train, y_train)\n",
    "score = dt.score(X_std_train,y_train)\n",
    "score"
   ]
  },
  {
   "cell_type": "code",
   "execution_count": null,
   "metadata": {
    "collapsed": true
   },
   "outputs": [],
   "source": []
  },
  {
   "cell_type": "code",
   "execution_count": 115,
   "metadata": {
    "collapsed": true
   },
   "outputs": [],
   "source": [
    "params = {\n",
    "    'max_depth': [3, 5, 7, None],\n",
    "    'min_samples_leaf':[3,10],\n",
    "    'min_impurity_split': [.001,.005]\n",
    "   \n",
    "}\n",
    "\n",
    "gs = GridSearchCV(dt, params, verbose=2)"
   ]
  },
  {
   "cell_type": "code",
   "execution_count": 116,
   "metadata": {},
   "outputs": [
    {
     "data": {
      "text/plain": [
       "GridSearchCV(cv=None, error_score='raise',\n",
       "       estimator=DecisionTreeRegressor(criterion='mse', max_depth=None, max_features=None,\n",
       "           max_leaf_nodes=None, min_impurity_split=1e-07,\n",
       "           min_samples_leaf=1, min_samples_split=2,\n",
       "           min_weight_fraction_leaf=0.0, presort=False, random_state=None,\n",
       "           splitter='best'),\n",
       "       fit_params={}, iid=True, n_jobs=1,\n",
       "       param_grid={'min_impurity_split': [0.001, 0.005], 'max_depth': [3, 5, 7, None], 'min_samples_leaf': [3, 10]},\n",
       "       pre_dispatch='2*n_jobs', refit=True, return_train_score=True,\n",
       "       scoring=None, verbose=2)"
      ]
     },
     "execution_count": 116,
     "metadata": {},
     "output_type": "execute_result"
    }
   ],
   "source": [
    "gs"
   ]
  },
  {
   "cell_type": "code",
   "execution_count": 117,
   "metadata": {},
   "outputs": [
    {
     "name": "stdout",
     "output_type": "stream",
     "text": [
      "Fitting 3 folds for each of 16 candidates, totalling 48 fits\n",
      "[CV] min_impurity_split=0.001, max_depth=3, min_samples_leaf=3 .......\n",
      "[CV]  min_impurity_split=0.001, max_depth=3, min_samples_leaf=3, total=   0.0s\n",
      "[CV] min_impurity_split=0.001, max_depth=3, min_samples_leaf=3 .......\n",
      "[CV]  min_impurity_split=0.001, max_depth=3, min_samples_leaf=3, total=   0.0s\n",
      "[CV] min_impurity_split=0.001, max_depth=3, min_samples_leaf=3 .......\n",
      "[CV]  min_impurity_split=0.001, max_depth=3, min_samples_leaf=3, total=   0.0s"
     ]
    },
    {
     "name": "stderr",
     "output_type": "stream",
     "text": [
      "[Parallel(n_jobs=1)]: Done   1 out of   1 | elapsed:    0.0s remaining:    0.0s\n"
     ]
    },
    {
     "name": "stdout",
     "output_type": "stream",
     "text": [
      "\n",
      "[CV] min_impurity_split=0.001, max_depth=3, min_samples_leaf=10 ......\n",
      "[CV]  min_impurity_split=0.001, max_depth=3, min_samples_leaf=10, total=   0.0s\n",
      "[CV] min_impurity_split=0.001, max_depth=3, min_samples_leaf=10 ......\n",
      "[CV]  min_impurity_split=0.001, max_depth=3, min_samples_leaf=10, total=   0.0s\n",
      "[CV] min_impurity_split=0.001, max_depth=3, min_samples_leaf=10 ......\n",
      "[CV]  min_impurity_split=0.001, max_depth=3, min_samples_leaf=10, total=   0.0s\n",
      "[CV] min_impurity_split=0.005, max_depth=3, min_samples_leaf=3 .......\n",
      "[CV]  min_impurity_split=0.005, max_depth=3, min_samples_leaf=3, total=   0.0s\n",
      "[CV] min_impurity_split=0.005, max_depth=3, min_samples_leaf=3 .......\n",
      "[CV]  min_impurity_split=0.005, max_depth=3, min_samples_leaf=3, total=   0.0s\n",
      "[CV] min_impurity_split=0.005, max_depth=3, min_samples_leaf=3 .......\n",
      "[CV]  min_impurity_split=0.005, max_depth=3, min_samples_leaf=3, total=   0.0s\n",
      "[CV] min_impurity_split=0.005, max_depth=3, min_samples_leaf=10 ......\n",
      "[CV]  min_impurity_split=0.005, max_depth=3, min_samples_leaf=10, total=   0.0s\n",
      "[CV] min_impurity_split=0.005, max_depth=3, min_samples_leaf=10 ......\n",
      "[CV]  min_impurity_split=0.005, max_depth=3, min_samples_leaf=10, total=   0.0s\n",
      "[CV] min_impurity_split=0.005, max_depth=3, min_samples_leaf=10 ......\n",
      "[CV]  min_impurity_split=0.005, max_depth=3, min_samples_leaf=10, total=   0.0s\n",
      "[CV] min_impurity_split=0.001, max_depth=5, min_samples_leaf=3 .......\n",
      "[CV]  min_impurity_split=0.001, max_depth=5, min_samples_leaf=3, total=   0.0s\n",
      "[CV] min_impurity_split=0.001, max_depth=5, min_samples_leaf=3 .......\n",
      "[CV]  min_impurity_split=0.001, max_depth=5, min_samples_leaf=3, total=   0.0s\n",
      "[CV] min_impurity_split=0.001, max_depth=5, min_samples_leaf=3 .......\n",
      "[CV]  min_impurity_split=0.001, max_depth=5, min_samples_leaf=3, total=   0.0s\n",
      "[CV] min_impurity_split=0.001, max_depth=5, min_samples_leaf=10 ......\n",
      "[CV]  min_impurity_split=0.001, max_depth=5, min_samples_leaf=10, total=   0.0s\n",
      "[CV] min_impurity_split=0.001, max_depth=5, min_samples_leaf=10 ......\n",
      "[CV]  min_impurity_split=0.001, max_depth=5, min_samples_leaf=10, total=   0.0s\n",
      "[CV] min_impurity_split=0.001, max_depth=5, min_samples_leaf=10 ......\n",
      "[CV]  min_impurity_split=0.001, max_depth=5, min_samples_leaf=10, total=   0.0s\n",
      "[CV] min_impurity_split=0.005, max_depth=5, min_samples_leaf=3 .......\n",
      "[CV]  min_impurity_split=0.005, max_depth=5, min_samples_leaf=3, total=   0.1s\n",
      "[CV] min_impurity_split=0.005, max_depth=5, min_samples_leaf=3 .......\n",
      "[CV]  min_impurity_split=0.005, max_depth=5, min_samples_leaf=3, total=   0.1s\n",
      "[CV] min_impurity_split=0.005, max_depth=5, min_samples_leaf=3 .......\n",
      "[CV]  min_impurity_split=0.005, max_depth=5, min_samples_leaf=3, total=   0.1s\n",
      "[CV] min_impurity_split=0.005, max_depth=5, min_samples_leaf=10 ......\n",
      "[CV]  min_impurity_split=0.005, max_depth=5, min_samples_leaf=10, total=   0.0s\n",
      "[CV] min_impurity_split=0.005, max_depth=5, min_samples_leaf=10 ......\n",
      "[CV]  min_impurity_split=0.005, max_depth=5, min_samples_leaf=10, total=   0.0s\n",
      "[CV] min_impurity_split=0.005, max_depth=5, min_samples_leaf=10 ......\n",
      "[CV]  min_impurity_split=0.005, max_depth=5, min_samples_leaf=10, total=   0.0s\n",
      "[CV] min_impurity_split=0.001, max_depth=7, min_samples_leaf=3 .......\n",
      "[CV]  min_impurity_split=0.001, max_depth=7, min_samples_leaf=3, total=   0.0s\n",
      "[CV] min_impurity_split=0.001, max_depth=7, min_samples_leaf=3 .......\n",
      "[CV]  min_impurity_split=0.001, max_depth=7, min_samples_leaf=3, total=   0.0s\n",
      "[CV] min_impurity_split=0.001, max_depth=7, min_samples_leaf=3 .......\n",
      "[CV]  min_impurity_split=0.001, max_depth=7, min_samples_leaf=3, total=   0.0s\n",
      "[CV] min_impurity_split=0.001, max_depth=7, min_samples_leaf=10 ......\n",
      "[CV]  min_impurity_split=0.001, max_depth=7, min_samples_leaf=10, total=   0.1s\n",
      "[CV] min_impurity_split=0.001, max_depth=7, min_samples_leaf=10 ......\n",
      "[CV]  min_impurity_split=0.001, max_depth=7, min_samples_leaf=10, total=   0.1s\n",
      "[CV] min_impurity_split=0.001, max_depth=7, min_samples_leaf=10 ......\n",
      "[CV]  min_impurity_split=0.001, max_depth=7, min_samples_leaf=10, total=   0.1s\n",
      "[CV] min_impurity_split=0.005, max_depth=7, min_samples_leaf=3 .......\n",
      "[CV]  min_impurity_split=0.005, max_depth=7, min_samples_leaf=3, total=   0.0s\n",
      "[CV] min_impurity_split=0.005, max_depth=7, min_samples_leaf=3 .......\n",
      "[CV]  min_impurity_split=0.005, max_depth=7, min_samples_leaf=3, total=   0.0s\n",
      "[CV] min_impurity_split=0.005, max_depth=7, min_samples_leaf=3 .......\n",
      "[CV]  min_impurity_split=0.005, max_depth=7, min_samples_leaf=3, total=   0.0s\n",
      "[CV] min_impurity_split=0.005, max_depth=7, min_samples_leaf=10 ......\n",
      "[CV]  min_impurity_split=0.005, max_depth=7, min_samples_leaf=10, total=   0.0s\n",
      "[CV] min_impurity_split=0.005, max_depth=7, min_samples_leaf=10 ......\n",
      "[CV]  min_impurity_split=0.005, max_depth=7, min_samples_leaf=10, total=   0.0s\n",
      "[CV] min_impurity_split=0.005, max_depth=7, min_samples_leaf=10 ......\n",
      "[CV]  min_impurity_split=0.005, max_depth=7, min_samples_leaf=10, total=   0.0s\n",
      "[CV] min_impurity_split=0.001, max_depth=None, min_samples_leaf=3 ....\n",
      "[CV]  min_impurity_split=0.001, max_depth=None, min_samples_leaf=3, total=   0.1s\n",
      "[CV] min_impurity_split=0.001, max_depth=None, min_samples_leaf=3 ....\n",
      "[CV]  min_impurity_split=0.001, max_depth=None, min_samples_leaf=3, total=   0.2s\n",
      "[CV] min_impurity_split=0.001, max_depth=None, min_samples_leaf=3 ....\n",
      "[CV]  min_impurity_split=0.001, max_depth=None, min_samples_leaf=3, total=   0.2s\n",
      "[CV] min_impurity_split=0.001, max_depth=None, min_samples_leaf=10 ...\n",
      "[CV]  min_impurity_split=0.001, max_depth=None, min_samples_leaf=10, total=   0.0s\n",
      "[CV] min_impurity_split=0.001, max_depth=None, min_samples_leaf=10 ...\n",
      "[CV]  min_impurity_split=0.001, max_depth=None, min_samples_leaf=10, total=   0.1s\n",
      "[CV] min_impurity_split=0.001, max_depth=None, min_samples_leaf=10 ...\n",
      "[CV]  min_impurity_split=0.001, max_depth=None, min_samples_leaf=10, total=   0.1s\n",
      "[CV] min_impurity_split=0.005, max_depth=None, min_samples_leaf=3 ....\n",
      "[CV]  min_impurity_split=0.005, max_depth=None, min_samples_leaf=3, total=   0.1s\n",
      "[CV] min_impurity_split=0.005, max_depth=None, min_samples_leaf=3 ....\n",
      "[CV]  min_impurity_split=0.005, max_depth=None, min_samples_leaf=3, total=   0.0s\n",
      "[CV] min_impurity_split=0.005, max_depth=None, min_samples_leaf=3 ....\n",
      "[CV]  min_impurity_split=0.005, max_depth=None, min_samples_leaf=3, total=   0.0s\n",
      "[CV] min_impurity_split=0.005, max_depth=None, min_samples_leaf=10 ...\n",
      "[CV]  min_impurity_split=0.005, max_depth=None, min_samples_leaf=10, total=   0.0s\n",
      "[CV] min_impurity_split=0.005, max_depth=None, min_samples_leaf=10 ...\n",
      "[CV]  min_impurity_split=0.005, max_depth=None, min_samples_leaf=10, total=   0.0s\n",
      "[CV] min_impurity_split=0.005, max_depth=None, min_samples_leaf=10 ...\n",
      "[CV]  min_impurity_split=0.005, max_depth=None, min_samples_leaf=10, total=   0.0s\n"
     ]
    },
    {
     "name": "stderr",
     "output_type": "stream",
     "text": [
      "[Parallel(n_jobs=1)]: Done  48 out of  48 | elapsed:    5.9s finished\n"
     ]
    },
    {
     "data": {
      "text/plain": [
       "GridSearchCV(cv=None, error_score='raise',\n",
       "       estimator=DecisionTreeRegressor(criterion='mse', max_depth=None, max_features=None,\n",
       "           max_leaf_nodes=None, min_impurity_split=1e-07,\n",
       "           min_samples_leaf=1, min_samples_split=2,\n",
       "           min_weight_fraction_leaf=0.0, presort=False, random_state=None,\n",
       "           splitter='best'),\n",
       "       fit_params={}, iid=True, n_jobs=1,\n",
       "       param_grid={'min_impurity_split': [0.001, 0.005], 'max_depth': [3, 5, 7, None], 'min_samples_leaf': [3, 10]},\n",
       "       pre_dispatch='2*n_jobs', refit=True, return_train_score=True,\n",
       "       scoring=None, verbose=2)"
      ]
     },
     "execution_count": 117,
     "metadata": {},
     "output_type": "execute_result"
    }
   ],
   "source": [
    "gs.fit(X_std_train, y_train)"
   ]
  },
  {
   "cell_type": "code",
   "execution_count": 118,
   "metadata": {},
   "outputs": [
    {
     "data": {
      "text/plain": [
       "-1.1198317883790687"
      ]
     },
     "execution_count": 118,
     "metadata": {},
     "output_type": "execute_result"
    }
   ],
   "source": [
    "gs.best_score_\n"
   ]
  },
  {
   "cell_type": "code",
   "execution_count": 119,
   "metadata": {},
   "outputs": [
    {
     "data": {
      "text/plain": [
       "{'max_depth': 5, 'min_impurity_split': 0.001, 'min_samples_leaf': 10}"
      ]
     },
     "execution_count": 119,
     "metadata": {},
     "output_type": "execute_result"
    }
   ],
   "source": [
    "gs.best_params_"
   ]
  },
  {
   "cell_type": "code",
   "execution_count": null,
   "metadata": {
    "collapsed": true
   },
   "outputs": [],
   "source": []
  }
 ],
 "metadata": {
  "kernelspec": {
   "display_name": "Python 2",
   "language": "python",
   "name": "python2"
  },
  "language_info": {
   "codemirror_mode": {
    "name": "ipython",
    "version": 2
   },
   "file_extension": ".py",
   "mimetype": "text/x-python",
   "name": "python",
   "nbconvert_exporter": "python",
   "pygments_lexer": "ipython2",
   "version": "2.7.13"
  }
 },
 "nbformat": 4,
 "nbformat_minor": 2
}
